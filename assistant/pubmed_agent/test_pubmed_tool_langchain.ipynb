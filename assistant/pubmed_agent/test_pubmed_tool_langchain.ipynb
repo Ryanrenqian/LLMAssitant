{
 "cells": [
  {
   "cell_type": "code",
   "execution_count": 1,
   "metadata": {},
   "outputs": [
    {
     "ename": "ImportError",
     "evalue": "cannot import name 'PubmedQueryRun' from 'langchain.tools' (/usr/local/Caskroom/miniconda/base/envs/chatLLM/lib/python3.9/site-packages/langchain/tools/__init__.py)",
     "output_type": "error",
     "traceback": [
      "\u001b[0;31m---------------------------------------------------------------------------\u001b[0m",
      "\u001b[0;31mImportError\u001b[0m                               Traceback (most recent call last)",
      "Cell \u001b[0;32mIn[1], line 1\u001b[0m\n\u001b[0;32m----> 1\u001b[0m \u001b[39mfrom\u001b[39;00m \u001b[39mlangchain\u001b[39;00m\u001b[39m.\u001b[39;00m\u001b[39mtools\u001b[39;00m \u001b[39mimport\u001b[39;00m PubmedQueryRun\n",
      "\u001b[0;31mImportError\u001b[0m: cannot import name 'PubmedQueryRun' from 'langchain.tools' (/usr/local/Caskroom/miniconda/base/envs/chatLLM/lib/python3.9/site-packages/langchain/tools/__init__.py)"
     ]
    }
   ],
   "source": [
    "from langchain.tools import PubmedQueryRun"
   ]
  },
  {
   "cell_type": "code",
   "execution_count": null,
   "metadata": {},
   "outputs": [],
   "source": []
  }
 ],
 "metadata": {
  "kernelspec": {
   "display_name": "chatLLM",
   "language": "python",
   "name": "python3"
  },
  "language_info": {
   "codemirror_mode": {
    "name": "ipython",
    "version": 3
   },
   "file_extension": ".py",
   "mimetype": "text/x-python",
   "name": "python",
   "nbconvert_exporter": "python",
   "pygments_lexer": "ipython3",
   "version": "3.9.16"
  },
  "orig_nbformat": 4
 },
 "nbformat": 4,
 "nbformat_minor": 2
}
